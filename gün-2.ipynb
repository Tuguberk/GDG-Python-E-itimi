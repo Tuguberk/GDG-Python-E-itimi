{
 "cells": [
  {
   "cell_type": "code",
   "execution_count": 1,
   "id": "ec56fc90-de6d-4598-a306-2cd0a4be30a8",
   "metadata": {},
   "outputs": [
    {
     "name": "stdout",
     "output_type": "stream",
     "text": [
      "5\n",
      "6\n",
      "7\n",
      "8\n",
      "9\n",
      "10\n"
     ]
    }
   ],
   "source": [
    "x = 5\n",
    "\n",
    "while x <= 10:\n",
    "    print(x)\n",
    "    x += 1"
   ]
  },
  {
   "cell_type": "code",
   "execution_count": 5,
   "id": "e227fa0e-4ff4-4039-8b41-064cf657eb17",
   "metadata": {},
   "outputs": [
    {
     "name": "stdout",
     "output_type": "stream",
     "text": [
      "10\n",
      "9\n",
      "8\n",
      "7\n",
      "6\n",
      "5\n",
      "4\n",
      "Döngü Bitti\n"
     ]
    }
   ],
   "source": [
    "y = 10\n",
    "\n",
    "while y > 3:\n",
    "    print(y)\n",
    "    y -= 1\n",
    "print(\"Döngü Bitti\")"
   ]
  },
  {
   "cell_type": "code",
   "execution_count": 10,
   "id": "3085eae5-0347-4c0d-87be-556e29940446",
   "metadata": {},
   "outputs": [
    {
     "name": "stdout",
     "output_type": "stream",
     "text": [
      "Değeriniz:  9\n",
      "Değeriniz:  16\n",
      "Değeriniz:  25\n",
      "Değeriniz:  36\n",
      "Değeriniz:  49\n",
      "Değeriniz:  64\n",
      "Değeriniz:  81\n"
     ]
    }
   ],
   "source": [
    "listem = [1,2,3,4,5,6,7,8,9]\n",
    "indis = 2\n",
    "\n",
    "while indis < len(listem):\n",
    "    print(\"Değeriniz: \",listem[indis]**2)\n",
    "    indis += 1"
   ]
  },
  {
   "cell_type": "code",
   "execution_count": null,
   "id": "f12f9a2e-5788-4f90-8cea-67188d59eb8e",
   "metadata": {},
   "outputs": [],
   "source": [
    "while True:\n",
    "    print(\"Sonsuza dek çalışır.\")"
   ]
  },
  {
   "cell_type": "code",
   "execution_count": null,
   "id": "c517ca63-2952-40f6-949c-13614738b844",
   "metadata": {},
   "outputs": [],
   "source": [
    "listem = [1,2,3,4,5,6,7,8,9]\n",
    "indis = 0\n",
    "\n",
    "while indis < len(listem):\n",
    "    print(\"Değeriniz: \",listem[indis]**2)\n",
    "    indis += 1\n",
    "    if indis == 3:\n",
    "        continue\n",
    "    \n",
    "    "
   ]
  },
  {
   "cell_type": "code",
   "execution_count": 12,
   "id": "59e722c7-74c9-4a8e-bcbf-72d42e3ec6df",
   "metadata": {},
   "outputs": [
    {
     "name": "stdout",
     "output_type": "stream",
     "text": [
      "0\n",
      "1\n",
      "2\n",
      "3\n",
      "4\n",
      "5\n",
      "6\n",
      "7\n",
      "8\n",
      "9\n",
      "10\n",
      "11\n",
      "12\n",
      "13\n",
      "14\n",
      "15\n",
      "16\n",
      "17\n",
      "18\n",
      "19\n",
      "20\n",
      "21\n",
      "22\n",
      "23\n",
      "24\n",
      "25\n",
      "26\n",
      "27\n",
      "28\n",
      "29\n",
      "30\n",
      "31\n",
      "32\n",
      "33\n",
      "34\n",
      "35\n",
      "36\n",
      "37\n",
      "38\n",
      "39\n",
      "40\n",
      "41\n",
      "42\n",
      "43\n",
      "44\n",
      "45\n",
      "46\n",
      "47\n",
      "48\n",
      "49\n",
      "50\n",
      "51\n",
      "52\n",
      "53\n",
      "54\n",
      "55\n",
      "56\n",
      "57\n",
      "58\n",
      "59\n",
      "60\n",
      "61\n",
      "62\n",
      "63\n",
      "64\n",
      "65\n",
      "66\n",
      "67\n",
      "68\n",
      "69\n",
      "70\n",
      "71\n",
      "72\n",
      "73\n",
      "74\n",
      "75\n",
      "76\n",
      "77\n",
      "78\n",
      "79\n",
      "80\n",
      "81\n",
      "82\n",
      "83\n",
      "84\n",
      "85\n",
      "86\n",
      "87\n",
      "88\n",
      "89\n",
      "90\n",
      "91\n",
      "92\n",
      "93\n",
      "94\n",
      "95\n",
      "96\n",
      "97\n",
      "98\n",
      "99\n"
     ]
    }
   ],
   "source": [
    "for sayı in range(100):\n",
    "    print(sayı)"
   ]
  },
  {
   "cell_type": "code",
   "execution_count": 13,
   "id": "eb6f1cfa-4e2c-41cf-9ba1-3f696e673883",
   "metadata": {},
   "outputs": [
    {
     "name": "stdout",
     "output_type": "stream",
     "text": [
      "50\n",
      "51\n",
      "52\n",
      "53\n",
      "54\n",
      "55\n",
      "56\n",
      "57\n",
      "58\n",
      "59\n",
      "60\n",
      "61\n",
      "62\n",
      "63\n",
      "64\n",
      "65\n",
      "66\n",
      "67\n",
      "68\n",
      "69\n",
      "70\n",
      "71\n",
      "72\n",
      "73\n",
      "74\n",
      "75\n",
      "76\n",
      "77\n",
      "78\n",
      "79\n",
      "80\n",
      "81\n",
      "82\n",
      "83\n",
      "84\n",
      "85\n",
      "86\n",
      "87\n",
      "88\n",
      "89\n",
      "90\n",
      "91\n",
      "92\n",
      "93\n",
      "94\n",
      "95\n",
      "96\n",
      "97\n",
      "98\n",
      "99\n"
     ]
    }
   ],
   "source": [
    "for sayı in range(50,100):\n",
    "    print(sayı)"
   ]
  },
  {
   "cell_type": "code",
   "execution_count": 14,
   "id": "19e1fb27-7375-49d7-a93e-f86e8adfd1cf",
   "metadata": {},
   "outputs": [
    {
     "name": "stdout",
     "output_type": "stream",
     "text": [
      "50\n",
      "52\n",
      "54\n",
      "56\n",
      "58\n",
      "60\n",
      "62\n",
      "64\n",
      "66\n",
      "68\n",
      "70\n",
      "72\n",
      "74\n",
      "76\n",
      "78\n",
      "80\n",
      "82\n",
      "84\n",
      "86\n",
      "88\n",
      "90\n",
      "92\n",
      "94\n",
      "96\n",
      "98\n"
     ]
    }
   ],
   "source": [
    "for sayı in range(50,100,2):\n",
    "    print(sayı)"
   ]
  },
  {
   "cell_type": "code",
   "execution_count": 15,
   "id": "ba696841-498b-4bc6-bc07-9f561eb2f8c6",
   "metadata": {},
   "outputs": [
    {
     "name": "stdout",
     "output_type": "stream",
     "text": [
      "100\n",
      "96\n",
      "92\n",
      "88\n",
      "84\n",
      "80\n",
      "76\n",
      "72\n",
      "68\n",
      "64\n",
      "60\n",
      "56\n",
      "52\n",
      "48\n",
      "44\n",
      "40\n",
      "36\n",
      "32\n",
      "28\n",
      "24\n"
     ]
    }
   ],
   "source": [
    "for sayı in range(100,20,-4):\n",
    "    print(sayı)"
   ]
  },
  {
   "cell_type": "code",
   "execution_count": 25,
   "id": "c3393ba9-0ade-42f6-95c1-a83909eb4348",
   "metadata": {},
   "outputs": [
    {
     "name": "stdout",
     "output_type": "stream",
     "text": [
      "İndis: 0 Değer: araba degis: 10\n",
      "degis: 20\n",
      "İndis: 1 Değer: 2 degis: 20\n",
      "degis: 30\n",
      "İndis: 2 Değer: 3 degis: 30\n",
      "degis: 40\n",
      "İndis: 3 Değer: 4 degis: 40\n",
      "degis: 50\n",
      "İndis: 4 Değer: 5 degis: 50\n",
      "degis: 60\n",
      "İndis: 5 Değer: 6 degis: 60\n",
      "degis: 70\n",
      "İndis: 6 Değer: 7 degis: 70\n",
      "degis: 80\n",
      "İndis: 7 Değer: 8 degis: 80\n",
      "degis: 90\n",
      "İndis: 8 Değer: 9 degis: 90\n",
      "degis: 100\n"
     ]
    }
   ],
   "source": [
    "listem = [\"araba\",2,3,4,5,6,7,8,9]\n",
    "degis = 10\n",
    "for i in range(len(listem)):\n",
    "    print(f\"İndis: {i} Değer: {listem[i]} degis: {degis}\")\n",
    "    degis += 10\n",
    "    print(f\"degis: {degis}\")"
   ]
  },
  {
   "cell_type": "code",
   "execution_count": 23,
   "id": "e0824ed4-2324-43a3-9cb4-c5ecd3c2dc25",
   "metadata": {},
   "outputs": [
    {
     "data": {
      "text/plain": [
       "' Dilekçe Örneği '"
      ]
     },
     "execution_count": 23,
     "metadata": {},
     "output_type": "execute_result"
    }
   ],
   "source": [
    "\" Dilekçe Örneği \""
   ]
  },
  {
   "cell_type": "code",
   "execution_count": 27,
   "id": "dc497e28-2ab0-4f2e-a026-93b5115f6a37",
   "metadata": {},
   "outputs": [
    {
     "name": "stdout",
     "output_type": "stream",
     "text": [
      "Ben toplama yaparım\n",
      "Ben toplama yaparım\n"
     ]
    }
   ],
   "source": [
    "def Toplama():\n",
    "    print(\"Ben toplama yaparım\")\n",
    "\n",
    "Toplama()\n",
    "Toplama()"
   ]
  },
  {
   "cell_type": "code",
   "execution_count": 42,
   "id": "0ff11408-f4a9-4189-bf08-159818c0c2d1",
   "metadata": {},
   "outputs": [
    {
     "ename": "UnboundLocalError",
     "evalue": "cannot access local variable 'deger' where it is not associated with a value",
     "output_type": "error",
     "traceback": [
      "\u001b[0;31m---------------------------------------------------------------------------\u001b[0m",
      "\u001b[0;31mUnboundLocalError\u001b[0m                         Traceback (most recent call last)",
      "Cell \u001b[0;32mIn[42], line 25\u001b[0m\n\u001b[1;32m     23\u001b[0m x \u001b[38;5;241m=\u001b[39m topla(\u001b[38;5;241m4\u001b[39m,\u001b[38;5;241m5\u001b[39m)\n\u001b[1;32m     24\u001b[0m y \u001b[38;5;241m=\u001b[39m cikar(x,\u001b[38;5;241m2\u001b[39m)\n\u001b[0;32m---> 25\u001b[0m z \u001b[38;5;241m=\u001b[39m \u001b[43mikiArtır\u001b[49m\u001b[43m(\u001b[49m\u001b[43my\u001b[49m\u001b[43m)\u001b[49m\n\u001b[1;32m     26\u001b[0m \u001b[38;5;28mprint\u001b[39m(z)\n\u001b[1;32m     27\u001b[0m k \u001b[38;5;241m=\u001b[39m Artır(z)\n",
      "Cell \u001b[0;32mIn[42], line 13\u001b[0m, in \u001b[0;36mikiArtır\u001b[0;34m(sayi)\u001b[0m\n\u001b[1;32m     12\u001b[0m \u001b[38;5;28;01mdef\u001b[39;00m \u001b[38;5;21mikiArtır\u001b[39m(sayi):\n\u001b[0;32m---> 13\u001b[0m     \u001b[43mdeger\u001b[49m \u001b[38;5;241m+\u001b[39m\u001b[38;5;241m=\u001b[39m\u001b[38;5;241m2\u001b[39m\n\u001b[1;32m     14\u001b[0m     \u001b[38;5;28;01mreturn\u001b[39;00m sayi\u001b[38;5;241m+\u001b[39m\u001b[38;5;241m2\u001b[39m\n",
      "\u001b[0;31mUnboundLocalError\u001b[0m: cannot access local variable 'deger' where it is not associated with a value"
     ]
    }
   ],
   "source": [
    "def topla(sayi1,sayi2):\n",
    "    toplam = sayi1 + sayi2\n",
    "    return toplam\n",
    "\n",
    "def cikar(sayi1,sayi2):\n",
    "    return sayi1-sayi2\n",
    "\n",
    "def ikiArtır(sayi):\n",
    "    deger +=2\n",
    "    return sayi+2\n",
    "\n",
    "def Artır(sayi,artis_miktarı=2):\n",
    "    return sayi + artis_miktarı\n",
    "\n",
    "def SorarakArtır(sayi):\n",
    "    artis_miktarı = int(input(\"Ne kadar artırmak istiyorsun: \"))\n",
    "    return sayi + artis_miktarı\n",
    "    \n",
    "x = topla(4,5)\n",
    "y = cikar(x,2)\n",
    "z = ikiArtır(y)\n",
    "print(z)\n",
    "k = Artır(z)\n",
    "l = Artır(k,5)\n",
    "u = SorarakArtır(60)\n",
    "print(u)"
   ]
  },
  {
   "cell_type": "code",
   "execution_count": 44,
   "id": "c036362e-0889-4be1-8863-05cb14614455",
   "metadata": {},
   "outputs": [
    {
     "name": "stdin",
     "output_type": "stream",
     "text": [
      "Şifrenizi giriniz: 5\n"
     ]
    },
    {
     "name": "stdout",
     "output_type": "stream",
     "text": [
      "\n",
      "dnasda\n",
      "\n",
      "29\n"
     ]
    }
   ],
   "source": [
    "##### alfabe = ['A', 'B', 'C', 'Ç', 'D', 'E', 'F', 'G', 'Ğ', 'H', 'I', 'İ', 'J', 'K', 'L', 'M', 'N', 'O', 'Ö', 'P', 'R', 'S', 'Ş', 'T', 'U', 'Ü', 'V', 'Y', 'Z']\n",
    "\n",
    "sifre = input(\"Şifrenizi giriniz:\")\n",
    "deneme_sayisi = 0\n",
    "\n",
    "for harf in sifre:\n",
    "    for i in alfabe:\n",
    "        deneme_sayisi += 1\n",
    "        if harf == i:\n",
    "            print(f\"Bulduğum harf: {harf}\")\n",
    "            break\n",
    "\n",
    "print(deneme_sayisi)"
   ]
  },
  {
   "cell_type": "code",
   "execution_count": null,
   "id": "0f914721-5c0f-48c0-8f39-9ab28860f430",
   "metadata": {},
   "outputs": [],
   "source": []
  }
 ],
 "metadata": {
  "kernelspec": {
   "display_name": "Python 3 (ipykernel)",
   "language": "python",
   "name": "python3"
  },
  "language_info": {
   "codemirror_mode": {
    "name": "ipython",
    "version": 3
   },
   "file_extension": ".py",
   "mimetype": "text/x-python",
   "name": "python",
   "nbconvert_exporter": "python",
   "pygments_lexer": "ipython3",
   "version": "3.12.6"
  }
 },
 "nbformat": 4,
 "nbformat_minor": 5
}

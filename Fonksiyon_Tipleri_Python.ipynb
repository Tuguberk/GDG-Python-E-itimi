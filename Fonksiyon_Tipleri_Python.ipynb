{
 "cells": [
  {
   "cell_type": "markdown",
   "id": "58763276",
   "metadata": {},
   "source": [
    "# Python'da Fonksiyon Tipleri\n",
    "\n"
   ]
  },
  {
   "cell_type": "markdown",
   "id": "cffdf201",
   "metadata": {},
   "source": [
    "\n",
    "### Giriş\n",
    "Python'da **fonksiyonlar**, belirli bir işlemi gerçekleştiren ve kodu daha düzenli, okunabilir hale getiren yapılar olarak kullanılır. \n",
    "Fonksiyonlar farklı şekillerde sınıflandırılabilir:\n",
    "\n",
    "1. **Değişken alan, veri döndüren fonksiyonlar**\n",
    "2. **Değişken alan, veri döndürmeyen fonksiyonlar**\n",
    "3. **Değişken almayan, veri döndüren fonksiyonlar**\n",
    "4. **Değişken almayan, veri döndürmeyen fonksiyonlar**\n",
    "\n",
    "Bu notebook'ta her bir türü **örneklerle** inceleyeceğiz.\n"
   ]
  },
  {
   "cell_type": "markdown",
   "id": "bfed7ff3",
   "metadata": {},
   "source": [
    "## 1. Değişken Alan, Veri Döndüren Fonksiyonlar\n"
   ]
  },
  {
   "cell_type": "markdown",
   "id": "731b89c8",
   "metadata": {},
   "source": [
    "\n",
    "Bu tür fonksiyonlar **giriş olarak değişken alır** ve **bir sonuç döndürür**. \n",
    "Örneğin, iki sayının toplamını bulan bir fonksiyon:\n"
   ]
  },
  {
   "cell_type": "code",
   "execution_count": 1,
   "id": "f8844d42",
   "metadata": {},
   "outputs": [
    {
     "name": "stdout",
     "output_type": "stream",
     "text": [
      "Toplam: 8\n"
     ]
    }
   ],
   "source": [
    "\n",
    "def topla(a, b):\n",
    "    return a + b\n",
    "\n",
    "sonuc = topla(3, 5)\n",
    "print(f\"Toplam: {sonuc}\")\n"
   ]
  },
  {
   "cell_type": "markdown",
   "id": "a8f5349d",
   "metadata": {},
   "source": [
    "## 2. Değişken Alan, Veri Döndürmeyen Fonksiyonlar\n"
   ]
  },
  {
   "cell_type": "markdown",
   "id": "e7337eb9",
   "metadata": {},
   "source": [
    "\n",
    "Bu tür fonksiyonlar **giriş olarak değişken alır**, ancak **herhangi bir değer döndürmez**. \n",
    "Genellikle ekrana bir şeyler yazdırmak için kullanılır.\n",
    "\n",
    "### Örnek:\n"
   ]
  },
  {
   "cell_type": "code",
   "execution_count": 2,
   "id": "13b0da90",
   "metadata": {},
   "outputs": [
    {
     "name": "stdout",
     "output_type": "stream",
     "text": [
      "Merhaba, Ahmet!\n"
     ]
    }
   ],
   "source": [
    "\n",
    "def selamla(isim):\n",
    "    print(f\"Merhaba, {isim}!\")\n",
    "\n",
    "selamla(\"Ahmet\")\n"
   ]
  },
  {
   "cell_type": "markdown",
   "id": "f902c977",
   "metadata": {},
   "source": [
    "## 3. Değişken Almayan, Veri Döndüren Fonksiyonlar\n"
   ]
  },
  {
   "cell_type": "markdown",
   "id": "67c1c541",
   "metadata": {},
   "source": [
    "\n",
    "Bu tür fonksiyonlar **giriş olarak değişken almaz**, ancak **bir değer döndürür**. \n",
    "Örneğin, sabit bir değeri döndüren bir fonksiyon:\n"
   ]
  },
  {
   "cell_type": "code",
   "execution_count": 3,
   "id": "f62ae34a",
   "metadata": {},
   "outputs": [
    {
     "name": "stdout",
     "output_type": "stream",
     "text": [
      "Pi Değeri: 3.14159\n"
     ]
    }
   ],
   "source": [
    "\n",
    "def pi_degeri():\n",
    "    return 3.14159\n",
    "\n",
    "print(f\"Pi Değeri: {pi_degeri()}\")\n"
   ]
  },
  {
   "cell_type": "markdown",
   "id": "1bbe83f9",
   "metadata": {},
   "source": [
    "## 4. Değişken Almayan, Veri Döndürmeyen Fonksiyonlar\n"
   ]
  },
  {
   "cell_type": "markdown",
   "id": "df4567d8",
   "metadata": {},
   "source": [
    "\n",
    "Bu tür fonksiyonlar **ne değişken alır ne de veri döndürür**. \n",
    "Genellikle bir işlemi doğrudan gerçekleştirir ve ekrana bir şeyler yazdırır.\n",
    "\n",
    "### Örnek:\n"
   ]
  },
  {
   "cell_type": "code",
   "execution_count": 4,
   "id": "19004f38",
   "metadata": {},
   "outputs": [
    {
     "name": "stdout",
     "output_type": "stream",
     "text": [
      "Python eğitimine hoş geldiniz!\n"
     ]
    }
   ],
   "source": [
    "\n",
    "def hosgeldin_mesaji():\n",
    "    print(\"Python eğitimine hoş geldiniz!\")\n",
    "\n",
    "hosgeldin_mesaji()\n"
   ]
  },
  {
   "cell_type": "markdown",
   "id": "5f9cb295",
   "metadata": {},
   "source": [
    "\n",
    "## Sonuç\n",
    "\n",
    "- **Değişken alan, veri döndüren** fonksiyonlar: Girdi alır ve bir sonuç döndürür.\n",
    "- **Değişken alan, veri döndürmeyen** fonksiyonlar: Girdi alır, ancak sadece işlem yapar ve sonuç döndürmez.\n",
    "- **Değişken almayan, veri döndüren** fonksiyonlar: Sabit değerler gibi çıktılar verir.\n",
    "- **Değişken almayan, veri döndürmeyen** fonksiyonlar: Doğrudan işlem yapar, ancak veri döndürmez."
   ]
  }
 ],
 "metadata": {
  "kernelspec": {
   "display_name": "Python 3 (ipykernel)",
   "language": "python",
   "name": "python3"
  },
  "language_info": {
   "codemirror_mode": {
    "name": "ipython",
    "version": 3
   },
   "file_extension": ".py",
   "mimetype": "text/x-python",
   "name": "python",
   "nbconvert_exporter": "python",
   "pygments_lexer": "ipython3",
   "version": "3.12.6"
  }
 },
 "nbformat": 4,
 "nbformat_minor": 5
}

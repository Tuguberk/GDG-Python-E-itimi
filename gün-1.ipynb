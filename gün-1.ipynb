{
 "cells": [
  {
   "cell_type": "code",
   "execution_count": 1,
   "id": "3ab10661-1a00-4683-a107-2c69016c07fc",
   "metadata": {},
   "outputs": [],
   "source": [
    "x = 5"
   ]
  },
  {
   "cell_type": "code",
   "execution_count": 2,
   "id": "7f915e87-ba3f-4b06-8c65-7de9455dba0d",
   "metadata": {},
   "outputs": [
    {
     "name": "stdout",
     "output_type": "stream",
     "text": [
      "5\n"
     ]
    }
   ],
   "source": [
    "print(x)"
   ]
  },
  {
   "cell_type": "code",
   "execution_count": 3,
   "id": "5705a0e0-3977-4075-9d00-0432e95d493b",
   "metadata": {},
   "outputs": [],
   "source": [
    "y = 5.3"
   ]
  },
  {
   "cell_type": "code",
   "execution_count": 4,
   "id": "343c92bc-bf14-4ae5-98da-6402ea929dd4",
   "metadata": {},
   "outputs": [
    {
     "name": "stdout",
     "output_type": "stream",
     "text": [
      "5.3\n"
     ]
    }
   ],
   "source": [
    "print(y)"
   ]
  },
  {
   "cell_type": "code",
   "execution_count": 5,
   "id": "4fec364c-d6a1-4c0f-959d-3aa3121c3ccb",
   "metadata": {},
   "outputs": [
    {
     "name": "stdout",
     "output_type": "stream",
     "text": [
      "10.3\n"
     ]
    }
   ],
   "source": [
    "print(x+y)"
   ]
  },
  {
   "cell_type": "code",
   "execution_count": 6,
   "id": "405cfc87-ec55-4cf7-899a-4453518107e4",
   "metadata": {},
   "outputs": [],
   "source": [
    "z = \"Merhaba, Dünya!\"\n",
    "f = 'Yeniden Merhaba'\n",
    "g = \"\"\"Hiiii\"\"\""
   ]
  },
  {
   "cell_type": "code",
   "execution_count": 8,
   "id": "1116efd8-1ed6-4342-a4d4-d760e22661e1",
   "metadata": {},
   "outputs": [
    {
     "name": "stdout",
     "output_type": "stream",
     "text": [
      "Merhaba, Dünya!Yeniden MerhabaHiiii\n"
     ]
    }
   ],
   "source": [
    "print(z+f+g)"
   ]
  },
  {
   "cell_type": "code",
   "execution_count": 9,
   "id": "bfc6435a-7842-44f1-92ea-4ab58e3a485e",
   "metadata": {},
   "outputs": [],
   "source": [
    "k = True\n",
    "l = False"
   ]
  },
  {
   "cell_type": "code",
   "execution_count": 11,
   "id": "05845960-deab-4515-81d2-911e7b1911af",
   "metadata": {},
   "outputs": [],
   "source": [
    "e_b = \"merhaba\""
   ]
  },
  {
   "cell_type": "code",
   "execution_count": 12,
   "id": "512daa70-d6ac-43db-804f-df27e8d819b3",
   "metadata": {},
   "outputs": [
    {
     "name": "stdout",
     "output_type": "stream",
     "text": [
      "merhaba\n"
     ]
    }
   ],
   "source": [
    "print(e_b)"
   ]
  },
  {
   "cell_type": "code",
   "execution_count": 13,
   "id": "c34a973f-24ff-4888-8af6-dadc7bcf4f23",
   "metadata": {},
   "outputs": [],
   "source": [
    "listem = [23,\"merhaba\",True]"
   ]
  },
  {
   "cell_type": "code",
   "execution_count": 16,
   "id": "9b9641de-717b-4d92-8bed-881c7f552f58",
   "metadata": {},
   "outputs": [],
   "source": [
    "sozlugum = {\"elma\":\"Lezzetli bir meyve\",\"armut\":\"Pek hoşlanmam\",\"araba\":\"tesla\",120:\"Baha\"}"
   ]
  },
  {
   "cell_type": "code",
   "execution_count": 15,
   "id": "d4c2bb02-a4aa-465d-8096-56f7d0f652bb",
   "metadata": {},
   "outputs": [
    {
     "name": "stdout",
     "output_type": "stream",
     "text": [
      "[23, 'merhaba', True]\n"
     ]
    }
   ],
   "source": [
    "print(listem)"
   ]
  },
  {
   "cell_type": "code",
   "execution_count": 17,
   "id": "5b2d0386-51bd-4759-8bfe-9db865d7c0cd",
   "metadata": {},
   "outputs": [
    {
     "name": "stdout",
     "output_type": "stream",
     "text": [
      "{'elma': 'Lezzetli bir meyve', 'armut': 'Pek hoşlanmam', 'araba': 'tesla', 120: 'Baha'}\n"
     ]
    }
   ],
   "source": [
    "print(sozlugum)"
   ]
  },
  {
   "cell_type": "code",
   "execution_count": 18,
   "id": "2a260a42-a8db-45bc-8706-23091c7f16db",
   "metadata": {},
   "outputs": [
    {
     "name": "stdout",
     "output_type": "stream",
     "text": [
      "merhaba\n"
     ]
    }
   ],
   "source": [
    "print(listem[1])"
   ]
  },
  {
   "cell_type": "code",
   "execution_count": 19,
   "id": "b1ec1739-5387-4fa2-a8b5-aa6d5a0e5da4",
   "metadata": {},
   "outputs": [],
   "source": [
    "listem[0] = 22"
   ]
  },
  {
   "cell_type": "code",
   "execution_count": 20,
   "id": "8775a5be-e220-4d9d-a1ef-2d961117093c",
   "metadata": {},
   "outputs": [
    {
     "name": "stdout",
     "output_type": "stream",
     "text": [
      "22\n"
     ]
    }
   ],
   "source": [
    "print(listem[0])"
   ]
  },
  {
   "cell_type": "code",
   "execution_count": 21,
   "id": "36c3e021-1248-41b7-be47-6259476edcf1",
   "metadata": {},
   "outputs": [
    {
     "name": "stdout",
     "output_type": "stream",
     "text": [
      "[22, 'merhaba', True]\n"
     ]
    }
   ],
   "source": [
    "print(listem)"
   ]
  },
  {
   "cell_type": "code",
   "execution_count": 22,
   "id": "f1ec1e05-8c1e-4828-ac15-a876e3d86305",
   "metadata": {},
   "outputs": [
    {
     "name": "stdout",
     "output_type": "stream",
     "text": [
      "3\n"
     ]
    }
   ],
   "source": [
    "print(len(listem))"
   ]
  },
  {
   "cell_type": "code",
   "execution_count": 23,
   "id": "0e6574ca-3bdd-4355-a4ee-6aee6b1b4597",
   "metadata": {},
   "outputs": [],
   "source": [
    "listem.append(\"yumurta\")"
   ]
  },
  {
   "cell_type": "code",
   "execution_count": 24,
   "id": "9c7e2af3-a581-4ae7-9cab-a40011c08cb8",
   "metadata": {},
   "outputs": [
    {
     "name": "stdout",
     "output_type": "stream",
     "text": [
      "[22, 'merhaba', True, 'yumurta']\n"
     ]
    }
   ],
   "source": [
    "print(listem)"
   ]
  },
  {
   "cell_type": "code",
   "execution_count": 25,
   "id": "4cd7840f-3ace-4228-8fdc-8e4adb7334ee",
   "metadata": {},
   "outputs": [
    {
     "data": {
      "text/plain": [
       "'yumurta'"
      ]
     },
     "execution_count": 25,
     "metadata": {},
     "output_type": "execute_result"
    }
   ],
   "source": [
    "listem.pop()"
   ]
  },
  {
   "cell_type": "code",
   "execution_count": 26,
   "id": "11838adc-7b0f-4b49-a5bf-f939df322d37",
   "metadata": {},
   "outputs": [
    {
     "name": "stdout",
     "output_type": "stream",
     "text": [
      "[22, 'merhaba', True]\n"
     ]
    }
   ],
   "source": [
    "print(listem)"
   ]
  },
  {
   "cell_type": "code",
   "execution_count": 27,
   "id": "81830cbc-bf9e-4fde-86f9-a66d142d016b",
   "metadata": {},
   "outputs": [],
   "source": [
    "sildigim = listem.pop()"
   ]
  },
  {
   "cell_type": "code",
   "execution_count": 28,
   "id": "aec18055-bf95-4469-a6b9-01aede729c92",
   "metadata": {},
   "outputs": [
    {
     "name": "stdout",
     "output_type": "stream",
     "text": [
      "True\n"
     ]
    }
   ],
   "source": [
    "print(sildigim)"
   ]
  },
  {
   "cell_type": "code",
   "execution_count": 30,
   "id": "fe7ddeb3-bf44-4675-8739-2693df68140c",
   "metadata": {},
   "outputs": [],
   "source": [
    "listem.append(sildigim)"
   ]
  },
  {
   "cell_type": "code",
   "execution_count": 31,
   "id": "30a4be7e-d3b5-431d-9816-4a81bf126f7b",
   "metadata": {},
   "outputs": [],
   "source": [
    "alışveriş = [\"elma\",\"armut\",\"ıspanak\",\"pırasa\"]"
   ]
  },
  {
   "cell_type": "code",
   "execution_count": 32,
   "id": "eefc036c-8fbe-4225-a236-ea04e0cac6fd",
   "metadata": {},
   "outputs": [
    {
     "data": {
      "text/plain": [
       "'armut'"
      ]
     },
     "execution_count": 32,
     "metadata": {},
     "output_type": "execute_result"
    }
   ],
   "source": [
    "alışveriş.pop(1)"
   ]
  },
  {
   "cell_type": "code",
   "execution_count": 33,
   "id": "462fce8a-2877-4c18-9329-d7ed223d8ceb",
   "metadata": {},
   "outputs": [
    {
     "name": "stdout",
     "output_type": "stream",
     "text": [
      "['elma', 'ıspanak', 'pırasa']\n"
     ]
    }
   ],
   "source": [
    "print(alışveriş)"
   ]
  },
  {
   "cell_type": "code",
   "execution_count": 34,
   "id": "92f2a07a-dfad-42b0-a63b-2403e67d2b83",
   "metadata": {},
   "outputs": [],
   "source": [
    "alışveriş.insert(1,\"yumurta\")"
   ]
  },
  {
   "cell_type": "code",
   "execution_count": 35,
   "id": "fc5988f5-55b4-4306-897a-2bdec769fa8d",
   "metadata": {},
   "outputs": [
    {
     "name": "stdout",
     "output_type": "stream",
     "text": [
      "['elma', 'yumurta', 'ıspanak', 'pırasa']\n"
     ]
    }
   ],
   "source": [
    "print(alışveriş)"
   ]
  },
  {
   "cell_type": "code",
   "execution_count": 36,
   "id": "e69bc05c-6aa8-4905-8ef8-1496d6ffb0eb",
   "metadata": {},
   "outputs": [
    {
     "name": "stdout",
     "output_type": "stream",
     "text": [
      "pırasa\n"
     ]
    }
   ],
   "source": [
    "print(alışveriş[len(alışveriş)-1])"
   ]
  },
  {
   "cell_type": "code",
   "execution_count": 38,
   "id": "3cb6c91a-aae6-48ae-b0ae-8d427a795a33",
   "metadata": {},
   "outputs": [
    {
     "name": "stdout",
     "output_type": "stream",
     "text": [
      "ıspanak\n"
     ]
    }
   ],
   "source": [
    "print(alışveriş[-2])"
   ]
  },
  {
   "cell_type": "code",
   "execution_count": 39,
   "id": "27015476-7776-4388-9bfc-f35b0637627d",
   "metadata": {},
   "outputs": [
    {
     "data": {
      "text/plain": [
       "2"
      ]
     },
     "execution_count": 39,
     "metadata": {},
     "output_type": "execute_result"
    }
   ],
   "source": [
    "alışveriş.index(\"ıspanak\")"
   ]
  },
  {
   "cell_type": "code",
   "execution_count": 40,
   "id": "99d9a1eb-6693-4f98-993a-2ab0732c8056",
   "metadata": {},
   "outputs": [],
   "source": [
    "alışveriş.append(\"ıspanak\")"
   ]
  },
  {
   "cell_type": "code",
   "execution_count": 41,
   "id": "86d00b9f-b55c-4a3a-8c49-1f17715e3684",
   "metadata": {},
   "outputs": [
    {
     "data": {
      "text/plain": [
       "2"
      ]
     },
     "execution_count": 41,
     "metadata": {},
     "output_type": "execute_result"
    }
   ],
   "source": [
    "alışveriş.index(\"ıspanak\")"
   ]
  },
  {
   "cell_type": "code",
   "execution_count": 49,
   "id": "690f28a2-a91e-417c-a16f-6fa680ab5e41",
   "metadata": {},
   "outputs": [
    {
     "name": "stdout",
     "output_type": "stream",
     "text": [
      "yumurta | ıspanak\n"
     ]
    }
   ],
   "source": [
    "print(*alışveriş[1:3],sep=\"|\")"
   ]
  },
  {
   "cell_type": "code",
   "execution_count": 56,
   "id": "5659759b-dae1-4d6f-b680-cec300501d53",
   "metadata": {},
   "outputs": [
    {
     "name": "stdout",
     "output_type": "stream",
     "text": [
      "13.5\n"
     ]
    }
   ],
   "source": [
    "x = 6.5\n",
    "y = 7\n",
    "print(x+y)"
   ]
  },
  {
   "cell_type": "code",
   "execution_count": 55,
   "id": "c6f12c41-31ff-4406-b803-56610ee56d2e",
   "metadata": {},
   "outputs": [
    {
     "name": "stdout",
     "output_type": "stream",
     "text": [
      "13.5\n"
     ]
    }
   ],
   "source": [
    "print(int(y)+float(x))"
   ]
  },
  {
   "cell_type": "code",
   "execution_count": 57,
   "id": "d663a418-6f6b-408b-9751-7d2ae864bba9",
   "metadata": {},
   "outputs": [
    {
     "name": "stdout",
     "output_type": "stream",
     "text": [
      "6.57\n"
     ]
    }
   ],
   "source": [
    "print(str(x)+str(y))"
   ]
  },
  {
   "cell_type": "code",
   "execution_count": 58,
   "id": "996a6c7d-9523-4a60-96a0-d08969adc788",
   "metadata": {},
   "outputs": [],
   "source": [
    "y = str(y)"
   ]
  },
  {
   "cell_type": "code",
   "execution_count": 59,
   "id": "20bd8984-25a5-483b-9134-9c7870445c82",
   "metadata": {},
   "outputs": [
    {
     "data": {
      "text/plain": [
       "True"
      ]
     },
     "execution_count": 59,
     "metadata": {},
     "output_type": "execute_result"
    }
   ],
   "source": [
    "True or False"
   ]
  },
  {
   "cell_type": "code",
   "execution_count": 60,
   "id": "0736259d-7e89-4469-a6f9-d52f083cc733",
   "metadata": {},
   "outputs": [
    {
     "data": {
      "text/plain": [
       "False"
      ]
     },
     "execution_count": 60,
     "metadata": {},
     "output_type": "execute_result"
    }
   ],
   "source": [
    "False and True"
   ]
  },
  {
   "cell_type": "code",
   "execution_count": 61,
   "id": "384778c1-37ba-42ea-8e85-55ae9a34090b",
   "metadata": {},
   "outputs": [
    {
     "data": {
      "text/plain": [
       "True"
      ]
     },
     "execution_count": 61,
     "metadata": {},
     "output_type": "execute_result"
    }
   ],
   "source": [
    "not False and True"
   ]
  },
  {
   "cell_type": "code",
   "execution_count": 67,
   "id": "80cc5b08-c8b8-4183-8d53-52a63a77d4e4",
   "metadata": {},
   "outputs": [],
   "source": [
    "x = 10\n"
   ]
  },
  {
   "cell_type": "code",
   "execution_count": 70,
   "id": "37197fc1-f92a-4bb6-812e-4b82b121b238",
   "metadata": {},
   "outputs": [
    {
     "name": "stdout",
     "output_type": "stream",
     "text": [
      "x 8'den büyük\n"
     ]
    }
   ],
   "source": [
    "if x > 8:\n",
    "    print(\"x 8'den büyük\")\n",
    "elif x > 5:\n",
    "    print(\"x 5'den büyük\")\n",
    "    \n",
    "else:\n",
    "    print(\"Geri kalan her şey\")\n"
   ]
  },
  {
   "cell_type": "code",
   "execution_count": 72,
   "id": "6d54fb7f-3184-49c7-90c5-2125f5c3168c",
   "metadata": {},
   "outputs": [
    {
     "name": "stdout",
     "output_type": "stream",
     "text": [
      "Kaç lira istiyorsun:  5\n"
     ]
    }
   ],
   "source": [
    "sayı = input(\"Kaç lira istiyorsun: \")"
   ]
  },
  {
   "cell_type": "code",
   "execution_count": 81,
   "id": "a8168e3b-14fb-4aba-b26f-7117ef29a368",
   "metadata": {},
   "outputs": [
    {
     "name": "stdout",
     "output_type": "stream",
     "text": [
      "Şifrenizi Giriniz:  ruhi123\n"
     ]
    },
    {
     "name": "stdout",
     "output_type": "stream",
     "text": [
      "Merhaba Ruhi\n",
      "********************\n"
     ]
    },
    {
     "name": "stdout",
     "output_type": "stream",
     "text": [
      "Ne kadar para istiyorsun:  500\n"
     ]
    },
    {
     "name": "stdout",
     "output_type": "stream",
     "text": [
      "Hesap bakiyen yeteriz\n"
     ]
    }
   ],
   "source": [
    "hesap_para = 500\n",
    "şifre = input(\"Şifrenizi Giriniz: \")\n",
    "if şifre == \"ruhi123\":\n",
    "    print(\"Merhaba Ruhi\")\n",
    "    print(\"*\"*20)\n",
    "    para = int(input(\"Ne kadar para istiyorsun: \"))\n",
    "    if hesap_para - (para+para/10) >= 0:\n",
    "        hesap_para -= (para+para/10)\n",
    "        print(\"Buyur ruhi paran\",para,\"hesabında kalan para: \",hesap_para)\n",
    "    else:\n",
    "        print(\"Hesap bakiyen yeteriz\")\n",
    "        \n",
    "    \n",
    "else:\n",
    "    print(\"Şifreniz Yanlış\")\n",
    "\n",
    "\n",
    "\n"
   ]
  },
  {
   "cell_type": "code",
   "execution_count": null,
   "id": "350931e5-9ef5-4cfd-be89-8e91eb0c330e",
   "metadata": {},
   "outputs": [],
   "source": []
  }
 ],
 "metadata": {
  "kernelspec": {
   "display_name": "Python 3 (ipykernel)",
   "language": "python",
   "name": "python3"
  },
  "language_info": {
   "codemirror_mode": {
    "name": "ipython",
    "version": 3
   },
   "file_extension": ".py",
   "mimetype": "text/x-python",
   "name": "python",
   "nbconvert_exporter": "python",
   "pygments_lexer": "ipython3",
   "version": "3.12.6"
  }
 },
 "nbformat": 4,
 "nbformat_minor": 5
}

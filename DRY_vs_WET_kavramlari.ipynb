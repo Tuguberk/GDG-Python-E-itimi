{
 "cells": [
  {
   "cell_type": "markdown",
   "id": "28d684d9",
   "metadata": {},
   "source": [
    "# DRY ve WET Konseptleri\n",
    "\n"
   ]
  },
  {
   "cell_type": "markdown",
   "id": "507fa62d",
   "metadata": {},
   "source": [
    "\n",
    "### Giriş\n",
    "Bu not defterinde **DRY** (Kendini Tekrarlama) ve **WET** (Her Şeyi İki Kez Yaz) prensiplerini inceleyeceğiz.\n",
    "Bu kavramlar, kodunuzun **okunabilirliğini**, **bakımını** ve **verimliliğini** artırmaya yardımcı olur.\n",
    "\n",
    "- **DRY Prensibi**: Tekrar eden kodlardan kaçınarak yönetilebilirliği artırır.\n",
    "- **WET Prensibi**: Bazen kodu tekrar yazmak daha okunabilir kılabilir, ancak daha az verimlidir.\n",
    "\n",
    "Aşağıda bu yaklaşımların **örneklerini** göreceğiz.\n"
   ]
  },
  {
   "cell_type": "markdown",
   "id": "744c38bb",
   "metadata": {},
   "source": [
    "## DRY (Kendini Tekrarlama)\n",
    "\n"
   ]
  },
  {
   "cell_type": "markdown",
   "id": "582db776",
   "metadata": {},
   "source": [
    "\n",
    "**DRY prensibi**, aynı kodu tekrarlamaktan kaçınmanızı önerir. Aynı mantık birden fazla yazıldığında,\n",
    "bakımı zorlaşır ve hatalara neden olabilir. DRY kodu, **fonksiyonlar**, **döngüler** veya diğer yeniden kullanılabilir yapılarla elde edilir.\n",
    "\n",
    "### Örnek (DRY Yaklaşımı):\n",
    "Aynı mantığı tekrar yazmak yerine, yeniden kullanılabilir bir **fonksiyon** oluştururuz:\n"
   ]
  },
  {
   "cell_type": "code",
   "execution_count": 3,
   "id": "010b93f4",
   "metadata": {},
   "outputs": [
    {
     "name": "stdout",
     "output_type": "stream",
     "text": [
      "Merhaba, Ahmet! Python kursuna hoş geldin.\n",
      "Merhaba, Mehmet! Python kursuna hoş geldin.\n",
      "Merhaba, Ayşe! Python kursuna hoş geldin.\n",
      "Merhaba, Fatma! Python kursuna hoş geldin.\n"
     ]
    }
   ],
   "source": [
    "def selamla(isim):\n",
    "    print(f\"Merhaba, {isim}! Python kursuna hoş geldin.\")\n",
    "\n",
    "isim_listesi = [\"Ahmet\", \"Mehmet\", \"Ayşe\", \"Fatma\"]\n",
    "# Farklı isimler için fonksiyonu tekrar KULLAN\n",
    "for isim in isim_listesi:\n",
    "    selamla(isim)\n"
   ]
  },
  {
   "cell_type": "markdown",
   "id": "ecb3b034",
   "metadata": {},
   "source": [
    "## WET (Her Şeyi İki Kez Yaz)\n",
    "\n"
   ]
  },
  {
   "cell_type": "markdown",
   "id": "2b90fb08",
   "metadata": {},
   "source": [
    "\n",
    "**WET prensibi**, **tekrarlı** veya **fazla yazılmış** koda işaret eder. \n",
    "Bazen her şeyi iki kez (veya daha fazla) yazmak küçük programlarda daha okunabilir olabilir, \n",
    "ancak kod büyüdükçe **bakımı zorlaşır**.\n",
    "\n",
    "### Örnek (WET Yaklaşımı):\n",
    "Burada, aynı yazdırma mantığı tekrarlanarak yazılmıştır, bu da **hataların** oluşma şansını artırır ve kodun bakımını zorlaştırır:\n"
   ]
  },
  {
   "cell_type": "code",
   "execution_count": 4,
   "id": "c2c1ca08",
   "metadata": {},
   "outputs": [
    {
     "name": "stdout",
     "output_type": "stream",
     "text": [
      "Merhaba, Ali! Python kursuna hoş geldin.\n",
      "Merhaba, Ayşe! Python kursuna hoş geldin.\n",
      "Merhaba, Ahmet! Python kursuna hoş geldin.\n"
     ]
    }
   ],
   "source": [
    "# Farklı isimler için aynı işlemi TEKRARLA\n",
    "print(\"Merhaba, Ali! Python kursuna hoş geldin.\")\n",
    "print(\"Merhaba, Ayşe! Python kursuna hoş geldin.\")\n",
    "print(\"Merhaba, Ahmet! Python kursuna hoş geldin.\")\n"
   ]
  },
  {
   "cell_type": "markdown",
   "id": "38f3fa68",
   "metadata": {},
   "source": [
    "\n",
    "## Sonuç\n",
    "\n",
    "- **DRY kodu**, bakımı daha kolaydır ve hataların oluşma ihtimalini azaltır.\n",
    "- **WET kodu**, bazen küçük ve basit durumlar için daha okunabilir olabilir, ancak uzun vadede verimsizdir.\n",
    "\n",
    "Başlangıç seviyesindeki bir programcı olarak, mümkün olduğunca **DRY prensibini** takip etmeye çalışın. **Fonksiyonlar** kullanarak tekrar eden mantığı \n",
    "kapsülleyin ve gereksiz tekrarları önleyin.\n"
   ]
  }
 ],
 "metadata": {
  "kernelspec": {
   "display_name": "Python 3 (ipykernel)",
   "language": "python",
   "name": "python3"
  },
  "language_info": {
   "codemirror_mode": {
    "name": "ipython",
    "version": 3
   },
   "file_extension": ".py",
   "mimetype": "text/x-python",
   "name": "python",
   "nbconvert_exporter": "python",
   "pygments_lexer": "ipython3",
   "version": "3.12.6"
  }
 },
 "nbformat": 4,
 "nbformat_minor": 5
}
